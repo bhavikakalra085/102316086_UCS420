{
  "nbformat": 4,
  "nbformat_minor": 0,
  "metadata": {
    "colab": {
      "provenance": [],
      "toc_visible": true,
      "authorship_tag": "ABX9TyMFMEdMbDvcKePjiGu3BPl5",
      "include_colab_link": true
    },
    "kernelspec": {
      "name": "python3",
      "display_name": "Python 3"
    },
    "language_info": {
      "name": "python"
    }
  },
  "cells": [
    {
      "cell_type": "markdown",
      "metadata": {
        "id": "view-in-github",
        "colab_type": "text"
      },
      "source": [
        "<a href=\"https://colab.research.google.com/github/bhavikakalra085/Cognitive_Computing/blob/main/assignment2.ipynb\" target=\"_parent\"><img src=\"https://colab.research.google.com/assets/colab-badge.svg\" alt=\"Open In Colab\"/></a>"
      ]
    },
    {
      "cell_type": "code",
      "execution_count": null,
      "metadata": {
        "id": "_8QQsrI9zhkO"
      },
      "outputs": [],
      "source": []
    },
    {
      "cell_type": "markdown",
      "source": [
        "1: Create a List L that is defined as= [10, 20, 30, 40, 50, 60, 70, 80]. i. WAP to add 200 and 300 to L. ii. WAP to remove 10 and 30 from L. iii. WAP to sort L in ascending order. iv. WAP to sort L in descending order."
      ],
      "metadata": {
        "id": "w-ws0W6DzmGd"
      }
    },
    {
      "cell_type": "code",
      "source": [
        "L=[10,20,30,40,50,60,70,80]\n",
        "L.append(200)\n",
        "L.append(300)\n",
        "print(\"after 1\",L)\n",
        "L.remove(10)\n",
        "L.remove(30)\n",
        "print(\"after 2\",L)\n",
        "L.sort()\n",
        "print(\"after 3\",L)\n",
        "L.sort(reverse=True)\n",
        "print(\"after 4 \",L)\n"
      ],
      "metadata": {
        "colab": {
          "base_uri": "https://localhost:8080/"
        },
        "id": "465wWu2Ozq2l",
        "outputId": "d24847ee-a611-42f2-e6fe-4af36c81738d"
      },
      "execution_count": null,
      "outputs": [
        {
          "output_type": "stream",
          "name": "stdout",
          "text": [
            "after 1 [10, 20, 30, 40, 50, 60, 70, 80, 200, 300]\n",
            "after 2 [20, 40, 50, 60, 70, 80, 200, 300]\n",
            "after 3 [20, 40, 50, 60, 70, 80, 200, 300]\n",
            "after 4  [300, 200, 80, 70, 60, 50, 40, 20]\n"
          ]
        }
      ]
    },
    {
      "cell_type": "markdown",
      "source": [
        "2: Create a tuple of marks scored as scores = (45, 89.5, 76, 45.4, 89, 92, 58, 45) and perform the following operations using tuple functions: i. Identify the highest score and its index in the tuple. ii. Find the lowest score and count how many times it appears. iii. Reverse the tuple and return it as a list. iv. Check if a specific score ‘76’ (input by the user) is present in the tuple and print its first occurrence index, or a message saying it’s not present."
      ],
      "metadata": {
        "id": "L_9wwpW5zuvE"
      }
    },
    {
      "cell_type": "code",
      "source": [
        "t=(45, 89.5, 76, 45.4, 89, 92, 58, 45)\n",
        "\n",
        "print(max(t))\n",
        "print(t.index(max(t)))\n",
        "print(min(t))\n",
        "print(t.count(min(t)))\n",
        "lst=list(t[::-1])\n",
        "print(lst)\n",
        "n=int(input(\"enter the number\"))\n",
        "if(t.count(n)):\n",
        "  print( t.index(n))\n",
        "else:\n",
        "  print(\"Not present\")"
      ],
      "metadata": {
        "colab": {
          "base_uri": "https://localhost:8080/"
        },
        "id": "W6gt3_P6z5uG",
        "outputId": "d4cddf86-e641-452e-ae49-9304c0b37753"
      },
      "execution_count": null,
      "outputs": [
        {
          "output_type": "stream",
          "name": "stdout",
          "text": [
            "92\n",
            "5\n",
            "45\n",
            "2\n",
            "[45, 58, 92, 89, 45.4, 76, 89.5, 45]\n",
            "enter the number  76\n",
            "2\n"
          ]
        }
      ]
    },
    {
      "cell_type": "markdown",
      "source": [],
      "metadata": {
        "id": "glLR8S4F0KqC"
      }
    },
    {
      "cell_type": "markdown",
      "source": [
        "3: WAP to create a list of 100 random numbers between 100 and 900. Count and print the: i. All odd numbers ii. All even numbers iii. All prime numbers"
      ],
      "metadata": {
        "id": "feQwJ2xY0Msw"
      }
    },
    {
      "cell_type": "code",
      "source": [
        "import random\n",
        "random_nums=[random.randint(101,899) for i in range(100)]\n",
        "#print(random_nums)\n",
        "cnt=0\n",
        "for i in random_nums:\n",
        "  if(i%2==1):\n",
        "    cnt+=1;\n",
        "    print(i,end=\" \")\n",
        "print(\"\\n\")\n",
        "print(\"count of odd no = \",cnt)\n",
        "cnte=0\n",
        "for i in random_nums:\n",
        "  if(i%2==0):\n",
        "    cnte+=1;\n",
        "    print(i,end=\" \")\n",
        "print(\"\\n\")\n",
        "print(\"count of even no = \",cnte)\n",
        "def is_prime(n):\n",
        "  if(n<=1):\n",
        "    return False\n",
        "  for i in range(2,n//2,1):\n",
        "    if(n%i==0):\n",
        "      return False\n",
        "  return True\n",
        "prime_numbers = [num for num in random_nums if is_prime(num)]\n",
        "print(\"Prime numbers:\", prime_numbers)\n",
        "print(len(prime_numbers))\n"
      ],
      "metadata": {
        "colab": {
          "base_uri": "https://localhost:8080/"
        },
        "id": "1mKB7tWZ0OV1",
        "outputId": "db9a153b-0bee-4623-e694-adccf4bbf072"
      },
      "execution_count": null,
      "outputs": [
        {
          "output_type": "stream",
          "name": "stdout",
          "text": [
            "447 485 225 753 409 743 161 353 685 157 387 471 669 109 437 535 827 179 545 453 701 529 283 221 405 817 891 683 605 109 597 321 231 891 479 815 685 807 595 401 527 895 411 145 217 621 425 261 811 395 291 871 \n",
            "\n",
            "count of odd no =  52\n",
            "622 536 772 416 864 626 836 646 826 830 418 516 794 452 130 606 796 698 820 876 752 850 390 282 728 794 320 536 506 526 216 796 838 628 812 602 328 718 872 228 494 756 200 502 278 548 758 874 \n",
            "\n",
            "count of even no =  48\n",
            "Prime numbers: [409, 743, 353, 157, 109, 827, 179, 701, 283, 683, 109, 479, 401, 811]\n",
            "14\n"
          ]
        }
      ]
    },
    {
      "cell_type": "markdown",
      "source": [
        "Consider the following two sets, A and B, representing scores of two teams in multiple matches. A = {34, 56, 78, 90} and B = {78, 45, 90, 23} WAP to perform the following operations using set funcƟons: i. Find the unique scores achieved by both teams (union of sets). ii. Identify the scores that are common to both teams (intersection of sets). iii. Find the scores that are exclusive to each team (symmetric difference). iv. Check if the scores of team A are a subset of team B, and if team B's scores are a superset of team A. v. Remove a specific score X (input by the user) from set A if it exists. If not, print a message saying it is not present."
      ],
      "metadata": {
        "id": "mnC48Mv00ZjQ"
      }
    },
    {
      "cell_type": "code",
      "source": [
        "A = {34, 56, 78, 90}\n",
        "B = {78, 45, 90, 23}\n",
        "print(A.union(B))\n",
        "print(A.intersection(B))\n",
        "print(A.difference(B))\n",
        "print(B.difference(A))\n",
        "print(A.symmetric_difference(B))\n",
        "if(A.issubset(B)):\n",
        "  print(\"A is subset of B\")\n",
        "else:\n",
        "  print(\"A is not subset of B\")\n",
        "if(B.issuperset(A)):\n",
        "  print(\"B is superset of A\")\n",
        "else:\n",
        "  print(\"B is not superset of A\")\n",
        "x=int(input(\"enter the number\"))\n",
        "if(x in A):\n",
        "  A.remove(x)\n",
        "  print(\"x is removed from A\")\n",
        "  print(A)\n",
        "else:\n",
        "  print(x ,\" is not present in A\")"
      ],
      "metadata": {
        "colab": {
          "base_uri": "https://localhost:8080/"
        },
        "id": "AdLrsS3k0dMR",
        "outputId": "19a4e53c-1007-4b52-c1e4-b0a8184f435f"
      },
      "execution_count": null,
      "outputs": [
        {
          "output_type": "stream",
          "name": "stdout",
          "text": [
            "{34, 45, 78, 23, 56, 90}\n",
            "{90, 78}\n",
            "{56, 34}\n",
            "{45, 23}\n",
            "{34, 45, 23, 56}\n",
            "A is not subset of B\n",
            "B is not superset of A\n",
            "enter the number23\n",
            "23  is not present in A\n"
          ]
        }
      ]
    },
    {
      "cell_type": "markdown",
      "source": [
        "5: Write a program to rename a key city to a location in the following dictionary."
      ],
      "metadata": {
        "id": "m6D89hMR0Xb0"
      }
    },
    {
      "cell_type": "code",
      "source": [
        "sample_dict={\"name\":\"bhavika\",\n",
        "            \"age\":19,\n",
        "            \"salary\":50000,\n",
        "            \"city\":\"ludhiana\"}\n",
        "sample_dict[\"location\"]=sample_dict.pop(\"city\")\n",
        "print(sample_dict)"
      ],
      "metadata": {
        "colab": {
          "base_uri": "https://localhost:8080/"
        },
        "id": "svkhmaLP0nw4",
        "outputId": "06c03088-5652-44ed-e854-b2bc699d6d85"
      },
      "execution_count": null,
      "outputs": [
        {
          "output_type": "stream",
          "name": "stdout",
          "text": [
            "{'name': 'bhavika', 'age': 19, 'salary': 50000, 'location': 'ludhiana'}\n"
          ]
        }
      ]
    },
    {
      "cell_type": "code",
      "source": [],
      "metadata": {
        "id": "w6FE7Nla0xYy"
      },
      "execution_count": null,
      "outputs": []
    }
  ]
}