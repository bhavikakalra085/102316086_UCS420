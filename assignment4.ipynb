{
  "nbformat": 4,
  "nbformat_minor": 0,
  "metadata": {
    "colab": {
      "provenance": [],
      "authorship_tag": "ABX9TyMbPrdezruzGvKupGIdFfKV",
      "include_colab_link": true
    },
    "kernelspec": {
      "name": "python3",
      "display_name": "Python 3"
    },
    "language_info": {
      "name": "python"
    }
  },
  "cells": [
    {
      "cell_type": "markdown",
      "metadata": {
        "id": "view-in-github",
        "colab_type": "text"
      },
      "source": [
        "<a href=\"https://colab.research.google.com/github/bhavikakalra085/102316086_UCS420/blob/main/assignment4.ipynb\" target=\"_parent\"><img src=\"https://colab.research.google.com/assets/colab-badge.svg\" alt=\"Open In Colab\"/></a>"
      ]
    },
    {
      "cell_type": "markdown",
      "source": [],
      "metadata": {
        "id": "TCKsObRNf6j6"
      }
    },
    {
      "cell_type": "code",
      "source": [
        "import numpy as np"
      ],
      "metadata": {
        "id": "BTHkFuQlf_1e"
      },
      "execution_count": 1,
      "outputs": []
    },
    {
      "cell_type": "markdown",
      "source": [
        ".1 Write a program to create a NumPy 1D-array with 5 elements and perform basic\n",
        "operations like:"
      ],
      "metadata": {
        "id": "kozYR3ACf67H"
      }
    },
    {
      "cell_type": "code",
      "source": [
        "arr=np.array([1,2,3,4,5])"
      ],
      "metadata": {
        "id": "o44Y44QugMKE"
      },
      "execution_count": 2,
      "outputs": []
    },
    {
      "cell_type": "markdown",
      "source": [
        "a) Addition of 2 in all the element"
      ],
      "metadata": {
        "id": "QqjzMLpygyof"
      }
    },
    {
      "cell_type": "code",
      "source": [
        "add=arr+2"
      ],
      "metadata": {
        "id": "AzyC3I7jg4mS"
      },
      "execution_count": 3,
      "outputs": []
    },
    {
      "cell_type": "code",
      "source": [
        "add"
      ],
      "metadata": {
        "colab": {
          "base_uri": "https://localhost:8080/"
        },
        "id": "tKOOBmozg6gB",
        "outputId": "a6b5731e-a8b2-452f-b89d-c160e8612925"
      },
      "execution_count": 4,
      "outputs": [
        {
          "output_type": "execute_result",
          "data": {
            "text/plain": [
              "array([3, 4, 5, 6, 7])"
            ]
          },
          "metadata": {},
          "execution_count": 4
        }
      ]
    },
    {
      "cell_type": "markdown",
      "source": [
        "b) Multiply 3 with all the elements"
      ],
      "metadata": {
        "id": "ARv5orSxhANX"
      }
    },
    {
      "cell_type": "code",
      "source": [
        "multiply=arr*3\n"
      ],
      "metadata": {
        "id": "q_P_9s7RhOIH"
      },
      "execution_count": 11,
      "outputs": []
    },
    {
      "cell_type": "markdown",
      "source": [],
      "metadata": {
        "id": "WIvmlgLYg-M9"
      }
    },
    {
      "cell_type": "code",
      "source": [
        "multiply"
      ],
      "metadata": {
        "colab": {
          "base_uri": "https://localhost:8080/"
        },
        "id": "iSb3jZT4hbIw",
        "outputId": "fbb41c9a-a1be-40c5-bbe5-2663fac898ea"
      },
      "execution_count": 12,
      "outputs": [
        {
          "output_type": "execute_result",
          "data": {
            "text/plain": [
              "array([ 3,  6,  9, 12, 15])"
            ]
          },
          "metadata": {},
          "execution_count": 12
        }
      ]
    },
    {
      "cell_type": "markdown",
      "source": [
        "c) Divide every element by 2"
      ],
      "metadata": {
        "id": "6DFvgjUZhpPI"
      }
    },
    {
      "cell_type": "code",
      "source": [
        "div=arr/2"
      ],
      "metadata": {
        "id": "hrMdBlg9hrJu"
      },
      "execution_count": 13,
      "outputs": []
    },
    {
      "cell_type": "code",
      "source": [
        "div"
      ],
      "metadata": {
        "colab": {
          "base_uri": "https://localhost:8080/"
        },
        "id": "o_AxJq2UhsnH",
        "outputId": "eff29949-cbba-427e-b1f0-c0cc32f23ede"
      },
      "execution_count": 14,
      "outputs": [
        {
          "output_type": "execute_result",
          "data": {
            "text/plain": [
              "array([0.5, 1. , 1.5, 2. , 2.5])"
            ]
          },
          "metadata": {},
          "execution_count": 14
        }
      ]
    },
    {
      "cell_type": "markdown",
      "source": [
        "Q.2 Questions on Basic NumPy Array:\n",
        "a) Reverse the NumPy array: arr = np.array([1, 2, 3, 6, 4, 5])"
      ],
      "metadata": {
        "id": "1b8aENnohueo"
      }
    },
    {
      "cell_type": "code",
      "source": [
        " arrey=np.array([1, 2, 3, 6, 4, 5])"
      ],
      "metadata": {
        "id": "_Qgl55MqiYM4"
      },
      "execution_count": 21,
      "outputs": []
    },
    {
      "cell_type": "code",
      "source": [
        "np.flip(arrey,axis=0)"
      ],
      "metadata": {
        "colab": {
          "base_uri": "https://localhost:8080/"
        },
        "id": "yjUPIoZth1J3",
        "outputId": "be05e6a4-92e0-4c76-9c44-f09d24454f23"
      },
      "execution_count": 26,
      "outputs": [
        {
          "output_type": "execute_result",
          "data": {
            "text/plain": [
              "array([5, 4, 6, 3, 2, 1])"
            ]
          },
          "metadata": {},
          "execution_count": 26
        }
      ]
    },
    {
      "cell_type": "markdown",
      "source": [
        "b) Find the most frequent value and their indice(s) in the following arrays:"
      ],
      "metadata": {
        "id": "1pyFjIjpjEFS"
      }
    },
    {
      "cell_type": "code",
      "source": [
        "x=np.array([1,2,3,4,5,1,2,1,1,1])"
      ],
      "metadata": {
        "id": "1cMq0aqkjItP"
      },
      "execution_count": 29,
      "outputs": []
    },
    {
      "cell_type": "markdown",
      "source": [],
      "metadata": {
        "id": "bd0tPUf6jaFJ"
      }
    },
    {
      "cell_type": "code",
      "source": [
        "print(\"maximum element in x array : \",np.bincount(x).argmax())"
      ],
      "metadata": {
        "colab": {
          "base_uri": "https://localhost:8080/"
        },
        "id": "xvAMpaXWjiie",
        "outputId": "646fae5f-4822-4447-a0fc-9ce9569ddb27"
      },
      "execution_count": 30,
      "outputs": [
        {
          "output_type": "stream",
          "name": "stdout",
          "text": [
            "maximum element in x array :  1\n"
          ]
        }
      ]
    },
    {
      "cell_type": "markdown",
      "source": [
        "ii. y = np.array([1, 1, 1, 2, 3, 4, 2, 4, 3, 3, ])"
      ],
      "metadata": {
        "id": "REOgUuaHjYOR"
      }
    },
    {
      "cell_type": "code",
      "source": [
        "y=np.array([1,1,1,2,3,4,2,4,3,3])\n",
        "print(\"maximum element in y array : \",np.bincount(y).argmax())"
      ],
      "metadata": {
        "colab": {
          "base_uri": "https://localhost:8080/"
        },
        "id": "QEkj1Y_jjpRg",
        "outputId": "7a71ad06-1523-4231-bed9-978b859f4bba"
      },
      "execution_count": 31,
      "outputs": [
        {
          "output_type": "stream",
          "name": "stdout",
          "text": [
            "maximum element in y array :  1\n"
          ]
        }
      ]
    },
    {
      "cell_type": "markdown",
      "source": [
        "Q.3 For the given 2-D array arr=np.array([10, 20, 30], [40, 50, 60], [70, 80, 90]), access\n",
        "elements using row and column indices as follows:"
      ],
      "metadata": {
        "id": "drroj4YNjuq5"
      }
    },
    {
      "cell_type": "code",
      "source": [
        "arr=np.array([[10,20,30],[40,50,60],[70,80,90]])\n",
        "arr"
      ],
      "metadata": {
        "colab": {
          "base_uri": "https://localhost:8080/"
        },
        "id": "ezfK9RWgjvy6",
        "outputId": "a95bd0d5-a22a-44f1-fca6-fadcc8bf095a"
      },
      "execution_count": 32,
      "outputs": [
        {
          "output_type": "execute_result",
          "data": {
            "text/plain": [
              "array([[10, 20, 30],\n",
              "       [40, 50, 60],\n",
              "       [70, 80, 90]])"
            ]
          },
          "metadata": {},
          "execution_count": 32
        }
      ]
    },
    {
      "cell_type": "markdown",
      "source": [
        "a) Access 1st row, 2nd column"
      ],
      "metadata": {
        "id": "9_SAjqkdjzAx"
      }
    },
    {
      "cell_type": "code",
      "source": [
        "arr[0][1]"
      ],
      "metadata": {
        "colab": {
          "base_uri": "https://localhost:8080/"
        },
        "id": "fCuyz2a2j1eQ",
        "outputId": "e780a718-193e-46dc-a009-9d3d45870c30"
      },
      "execution_count": 33,
      "outputs": [
        {
          "output_type": "execute_result",
          "data": {
            "text/plain": [
              "20"
            ]
          },
          "metadata": {},
          "execution_count": 33
        }
      ]
    },
    {
      "cell_type": "markdown",
      "source": [
        "b) Access 3rd row, 1st column"
      ],
      "metadata": {
        "id": "AGpUfzo0kIEi"
      }
    },
    {
      "cell_type": "code",
      "source": [
        "arr[2][0]"
      ],
      "metadata": {
        "colab": {
          "base_uri": "https://localhost:8080/"
        },
        "id": "RroJlJJLkKtr",
        "outputId": "06cb2ac8-5e40-458c-c3ce-21180c957d81"
      },
      "execution_count": 34,
      "outputs": [
        {
          "output_type": "execute_result",
          "data": {
            "text/plain": [
              "70"
            ]
          },
          "metadata": {},
          "execution_count": 34
        }
      ]
    },
    {
      "cell_type": "markdown",
      "source": [
        "Q.4 Write program to create an 1-D NumPy array named <<Your Name>> with evenly\n",
        "spaced 25 numbers from 10 to 100 using linspace(). Print the dimensions of the array,\n",
        "shape, total elements, the data type of each element and total number of bytes consumed\n",
        "by the array. Find the transpose of this array using reshape() attribute. Can we do the same\n",
        "with T attribute?"
      ],
      "metadata": {
        "id": "eIe4wcltkNby"
      }
    },
    {
      "cell_type": "code",
      "source": [
        "ab=np.array(np.linspace(10,100,num=25))"
      ],
      "metadata": {
        "id": "iDrCsHIdkQ2r"
      },
      "execution_count": 35,
      "outputs": []
    },
    {
      "cell_type": "code",
      "source": [
        "ab"
      ],
      "metadata": {
        "colab": {
          "base_uri": "https://localhost:8080/"
        },
        "id": "wYJnPSDTkWMr",
        "outputId": "783a603e-ecdd-40db-8b97-ab77203f35a0"
      },
      "execution_count": 36,
      "outputs": [
        {
          "output_type": "execute_result",
          "data": {
            "text/plain": [
              "array([ 10.  ,  13.75,  17.5 ,  21.25,  25.  ,  28.75,  32.5 ,  36.25,\n",
              "        40.  ,  43.75,  47.5 ,  51.25,  55.  ,  58.75,  62.5 ,  66.25,\n",
              "        70.  ,  73.75,  77.5 ,  81.25,  85.  ,  88.75,  92.5 ,  96.25,\n",
              "       100.  ])"
            ]
          },
          "metadata": {},
          "execution_count": 36
        }
      ]
    },
    {
      "cell_type": "code",
      "source": [
        "print(\"dimension of array :\",ab.ndim)"
      ],
      "metadata": {
        "colab": {
          "base_uri": "https://localhost:8080/"
        },
        "id": "Elngr58RkYvs",
        "outputId": "e3267282-1cda-4fda-a282-0f958f9ad146"
      },
      "execution_count": 37,
      "outputs": [
        {
          "output_type": "stream",
          "name": "stdout",
          "text": [
            "dimension of array : 1\n"
          ]
        }
      ]
    },
    {
      "cell_type": "code",
      "source": [
        "print(\"shape of array:\",ab.shape)"
      ],
      "metadata": {
        "colab": {
          "base_uri": "https://localhost:8080/"
        },
        "id": "ioMijmamkggC",
        "outputId": "34ba80e0-160a-4f69-8478-393717dc5c0e"
      },
      "execution_count": 39,
      "outputs": [
        {
          "output_type": "stream",
          "name": "stdout",
          "text": [
            "shape of array: (25,)\n"
          ]
        }
      ]
    },
    {
      "cell_type": "markdown",
      "source": [],
      "metadata": {
        "id": "lTnPAJ3jkZci"
      }
    },
    {
      "cell_type": "code",
      "source": [
        "print(\"total number of elements :\",np.size(ab))"
      ],
      "metadata": {
        "colab": {
          "base_uri": "https://localhost:8080/"
        },
        "id": "nwn4jI9zkm49",
        "outputId": "96b4d594-ffeb-4400-9574-700f1dac5557"
      },
      "execution_count": 41,
      "outputs": [
        {
          "output_type": "stream",
          "name": "stdout",
          "text": [
            "total number of elements : 25\n"
          ]
        }
      ]
    },
    {
      "cell_type": "code",
      "source": [
        "print(\"data type of array elements :\",ab.dtype)"
      ],
      "metadata": {
        "colab": {
          "base_uri": "https://localhost:8080/"
        },
        "id": "Bh9hG3Oal9TB",
        "outputId": "9185f44c-0aa4-4acd-9dd5-5ab0cdbb3bee"
      },
      "execution_count": 43,
      "outputs": [
        {
          "output_type": "stream",
          "name": "stdout",
          "text": [
            "data type of array elements : float64\n"
          ]
        }
      ]
    },
    {
      "cell_type": "code",
      "source": [
        "print(\"total bytes of array :\",ab.nbytes)"
      ],
      "metadata": {
        "colab": {
          "base_uri": "https://localhost:8080/"
        },
        "id": "5mhFccpDmCKD",
        "outputId": "36eaf6c4-f078-4abc-8ec4-2c656672a8c4"
      },
      "execution_count": 44,
      "outputs": [
        {
          "output_type": "stream",
          "name": "stdout",
          "text": [
            "total bytes of array : 200\n"
          ]
        }
      ]
    },
    {
      "cell_type": "code",
      "source": [
        "ab.reshape(25,1)"
      ],
      "metadata": {
        "colab": {
          "base_uri": "https://localhost:8080/"
        },
        "id": "LLFb0LvvmHkE",
        "outputId": "9aaa1ed3-2a0a-4af1-ff65-43766ac5127c"
      },
      "execution_count": 45,
      "outputs": [
        {
          "output_type": "execute_result",
          "data": {
            "text/plain": [
              "array([[ 10.  ],\n",
              "       [ 13.75],\n",
              "       [ 17.5 ],\n",
              "       [ 21.25],\n",
              "       [ 25.  ],\n",
              "       [ 28.75],\n",
              "       [ 32.5 ],\n",
              "       [ 36.25],\n",
              "       [ 40.  ],\n",
              "       [ 43.75],\n",
              "       [ 47.5 ],\n",
              "       [ 51.25],\n",
              "       [ 55.  ],\n",
              "       [ 58.75],\n",
              "       [ 62.5 ],\n",
              "       [ 66.25],\n",
              "       [ 70.  ],\n",
              "       [ 73.75],\n",
              "       [ 77.5 ],\n",
              "       [ 81.25],\n",
              "       [ 85.  ],\n",
              "       [ 88.75],\n",
              "       [ 92.5 ],\n",
              "       [ 96.25],\n",
              "       [100.  ]])"
            ]
          },
          "metadata": {},
          "execution_count": 45
        }
      ]
    },
    {
      "cell_type": "code",
      "source": [
        "print(\"before transpose :\")\n",
        "print(ab.T)\n",
        "print(\"transposed array :\")\n",
        "print(ab.T)"
      ],
      "metadata": {
        "colab": {
          "base_uri": "https://localhost:8080/"
        },
        "id": "A633498gmK0g",
        "outputId": "531f9257-a7fc-4e35-d38e-cd69cc6435ae"
      },
      "execution_count": 46,
      "outputs": [
        {
          "output_type": "stream",
          "name": "stdout",
          "text": [
            "before transpose :\n",
            "[ 10.    13.75  17.5   21.25  25.    28.75  32.5   36.25  40.    43.75\n",
            "  47.5   51.25  55.    58.75  62.5   66.25  70.    73.75  77.5   81.25\n",
            "  85.    88.75  92.5   96.25 100.  ]\n",
            "transposed array :\n",
            "[ 10.    13.75  17.5   21.25  25.    28.75  32.5   36.25  40.    43.75\n",
            "  47.5   51.25  55.    58.75  62.5   66.25  70.    73.75  77.5   81.25\n",
            "  85.    88.75  92.5   96.25 100.  ]\n"
          ]
        }
      ]
    },
    {
      "cell_type": "code",
      "source": [],
      "metadata": {
        "id": "rpYiwqG1mO8P"
      },
      "execution_count": null,
      "outputs": []
    },
    {
      "cell_type": "markdown",
      "source": [
        "Q5. Create a 2-D Array of three rows and four columns, named ucs420_shraddha>\n",
        "with following values – 10, 20, 30, 40, 50, 60, 70, 80, 90, 15, 20, 35. Compute the mean,\n",
        "median, max, min, unique elements. Reshape the array to four rows and three columns and\n",
        "name it as reshaped_ ucs420_bhavika>. Resize the array to two rows and three\n",
        "columns and name it as resized_ ucs420_bhavika>"
      ],
      "metadata": {
        "id": "LLzOHXVMmQUu"
      }
    },
    {
      "cell_type": "code",
      "source": [
        "ucs420_bhavika=np.array([[10,20,30,40],[50,60,70,80],[90,15,20,35]])\n",
        "ucs420_bhavika"
      ],
      "metadata": {
        "colab": {
          "base_uri": "https://localhost:8080/"
        },
        "id": "soaSy2WAmZ-_",
        "outputId": "077d899b-e3da-43bb-e790-1171623603d2"
      },
      "execution_count": 48,
      "outputs": [
        {
          "output_type": "execute_result",
          "data": {
            "text/plain": [
              "array([[10, 20, 30, 40],\n",
              "       [50, 60, 70, 80],\n",
              "       [90, 15, 20, 35]])"
            ]
          },
          "metadata": {},
          "execution_count": 48
        }
      ]
    },
    {
      "cell_type": "code",
      "source": [
        "mean=np.mean(ucs420_bhavika)\n",
        "print(\"mean of array :\",mean)"
      ],
      "metadata": {
        "colab": {
          "base_uri": "https://localhost:8080/"
        },
        "id": "ruCAoeMwmfxP",
        "outputId": "946f85a9-c52c-4f20-9ab4-7e41680de885"
      },
      "execution_count": 49,
      "outputs": [
        {
          "output_type": "stream",
          "name": "stdout",
          "text": [
            "mean of array : 43.333333333333336\n"
          ]
        }
      ]
    },
    {
      "cell_type": "code",
      "source": [
        "median=np.median(ucs420_bhavika)\n",
        "print(\"median of array :\",median)"
      ],
      "metadata": {
        "colab": {
          "base_uri": "https://localhost:8080/"
        },
        "id": "VK163Mp5mpyf",
        "outputId": "44541a71-fcf3-4e3c-bbd5-eb108feac261"
      },
      "execution_count": 50,
      "outputs": [
        {
          "output_type": "stream",
          "name": "stdout",
          "text": [
            "median of array : 37.5\n"
          ]
        }
      ]
    },
    {
      "cell_type": "code",
      "source": [
        "unique_elements=np.unique(ucs420_bhavika)\n",
        "print(unique_elements)"
      ],
      "metadata": {
        "colab": {
          "base_uri": "https://localhost:8080/"
        },
        "id": "xesDDRgPm1di",
        "outputId": "fe8f8ecc-1d6c-4219-ec34-2b246a48d8ef"
      },
      "execution_count": 51,
      "outputs": [
        {
          "output_type": "stream",
          "name": "stdout",
          "text": [
            "[10 15 20 30 35 40 50 60 70 80 90]\n"
          ]
        }
      ]
    },
    {
      "cell_type": "code",
      "source": [
        "maxArr=ucs420_bhavika.max()\n",
        "print(\"max. element in array :\",maxArr)"
      ],
      "metadata": {
        "colab": {
          "base_uri": "https://localhost:8080/"
        },
        "id": "f6kJC2KPm68w",
        "outputId": "9da0ab07-bd8e-4c2d-9297-3dc9ea4ac931"
      },
      "execution_count": 52,
      "outputs": [
        {
          "output_type": "stream",
          "name": "stdout",
          "text": [
            "max. element in array : 90\n"
          ]
        }
      ]
    },
    {
      "cell_type": "code",
      "source": [
        "minArr=ucs420_bhavika.min()\n",
        "print(\"min. element in array :\",minArr)"
      ],
      "metadata": {
        "colab": {
          "base_uri": "https://localhost:8080/"
        },
        "id": "EdwZBkMinAbb",
        "outputId": "63737622-4135-4412-d616-363746df69d3"
      },
      "execution_count": 53,
      "outputs": [
        {
          "output_type": "stream",
          "name": "stdout",
          "text": [
            "min. element in array : 10\n"
          ]
        }
      ]
    },
    {
      "cell_type": "markdown",
      "source": [],
      "metadata": {
        "id": "CJH6k9uPnFVt"
      }
    },
    {
      "cell_type": "code",
      "source": [
        "reshaped_ucs420_bhavika=ucs420_bhavika.reshape(4,3)\n",
        "print(reshaped_ucs420_bhavika)"
      ],
      "metadata": {
        "colab": {
          "base_uri": "https://localhost:8080/"
        },
        "id": "pjYfS4MHnHV1",
        "outputId": "3e770eb2-7e53-4c85-f7d8-44aa966af4a8"
      },
      "execution_count": 54,
      "outputs": [
        {
          "output_type": "stream",
          "name": "stdout",
          "text": [
            "[[10 20 30]\n",
            " [40 50 60]\n",
            " [70 80 90]\n",
            " [15 20 35]]\n"
          ]
        }
      ]
    },
    {
      "cell_type": "code",
      "source": [
        "resized_ucs420_bhavika=np.resize(ucs420_bhavika,(2,3))\n",
        "resized_ucs420_bhavika"
      ],
      "metadata": {
        "colab": {
          "base_uri": "https://localhost:8080/"
        },
        "id": "PRgZRPCwnNow",
        "outputId": "f2b4cced-e3bd-4367-f7cd-485f76314864"
      },
      "execution_count": 55,
      "outputs": [
        {
          "output_type": "execute_result",
          "data": {
            "text/plain": [
              "array([[10, 20, 30],\n",
              "       [40, 50, 60]])"
            ]
          },
          "metadata": {},
          "execution_count": 55
        }
      ]
    },
    {
      "cell_type": "code",
      "source": [],
      "metadata": {
        "id": "j5TvwWKHnV3m"
      },
      "execution_count": null,
      "outputs": []
    }
  ]
}