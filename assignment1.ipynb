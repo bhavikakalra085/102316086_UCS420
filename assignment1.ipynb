{
  "nbformat": 4,
  "nbformat_minor": 0,
  "metadata": {
    "colab": {
      "provenance": [],
      "toc_visible": true,
      "authorship_tag": "ABX9TyNpdM0DC+nPu7mdZAet0/5u",
      "include_colab_link": true
    },
    "kernelspec": {
      "name": "python3",
      "display_name": "Python 3"
    },
    "language_info": {
      "name": "python"
    }
  },
  "cells": [
    {
      "cell_type": "markdown",
      "metadata": {
        "id": "view-in-github",
        "colab_type": "text"
      },
      "source": [
        "<a href=\"https://colab.research.google.com/github/bhavikakalra085/Cognitive_Computing/blob/main/assignment1.ipynb\" target=\"_parent\"><img src=\"https://colab.research.google.com/assets/colab-badge.svg\" alt=\"Open In Colab\"/></a>"
      ]
    },
    {
      "cell_type": "code",
      "execution_count": null,
      "metadata": {
        "id": "9xJvunOf95Hr"
      },
      "outputs": [],
      "source": []
    },
    {
      "cell_type": "code",
      "source": [],
      "metadata": {
        "id": "0hgrBZ5Z-eqW"
      },
      "execution_count": null,
      "outputs": []
    },
    {
      "cell_type": "markdown",
      "source": [
        "1.1 WAP to print your name three times"
      ],
      "metadata": {
        "id": "MdC1Kd4r-fN8"
      }
    },
    {
      "cell_type": "code",
      "source": [
        "for i in range(3):\n",
        "  print(\"Bhavika\")\n",
        ""
      ],
      "metadata": {
        "colab": {
          "base_uri": "https://localhost:8080/"
        },
        "id": "-SXM8SqC-hwN",
        "outputId": "5d1b6416-e0a1-4e2e-f76c-4dc083ecb0b8"
      },
      "execution_count": 1,
      "outputs": [
        {
          "output_type": "stream",
          "name": "stdout",
          "text": [
            "Bhavika\n",
            "Bhavika\n",
            "Bhavika\n"
          ]
        }
      ]
    },
    {
      "cell_type": "code",
      "source": [],
      "metadata": {
        "id": "3FbGFG3e-loN"
      },
      "execution_count": null,
      "outputs": []
    },
    {
      "cell_type": "markdown",
      "source": [
        "2.1 WAP to add three numbers and print the result."
      ],
      "metadata": {
        "id": "Jb-Wbtnz-nxC"
      }
    },
    {
      "cell_type": "code",
      "source": [
        "a=10\n",
        "b=220\n",
        "c=23\n",
        "c=a+b\n",
        "print(a,\"+\",b,\"+\",c,\"=\",a+b+c)"
      ],
      "metadata": {
        "colab": {
          "base_uri": "https://localhost:8080/"
        },
        "id": "uWlp8KvD-o7y",
        "outputId": "55c01632-1dd3-4b8c-f16b-6a3d1e16673a"
      },
      "execution_count": 2,
      "outputs": [
        {
          "output_type": "stream",
          "name": "stdout",
          "text": [
            "10 + 220 + 230 = 460\n"
          ]
        }
      ]
    },
    {
      "cell_type": "code",
      "source": [],
      "metadata": {
        "id": "lii6ajP4-q-A"
      },
      "execution_count": null,
      "outputs": []
    },
    {
      "cell_type": "markdown",
      "source": [
        "2.2 WAP to concatinate three strings and print the result."
      ],
      "metadata": {
        "id": "PxhxtbH1-rnb"
      }
    },
    {
      "cell_type": "code",
      "source": [
        "a=\"blueberry\"\n",
        "b=\"cheese\"\n",
        "c=\"cake\"\n",
        "print(a+b+c)"
      ],
      "metadata": {
        "colab": {
          "base_uri": "https://localhost:8080/"
        },
        "id": "oZ6-wc-s-t97",
        "outputId": "db29190b-5d99-42d3-83c0-73297b70dd3e"
      },
      "execution_count": 3,
      "outputs": [
        {
          "output_type": "stream",
          "name": "stdout",
          "text": [
            "blueberrycheesecake\n"
          ]
        }
      ]
    },
    {
      "cell_type": "markdown",
      "source": [
        "4.1 WAP to print the table of 7, 9."
      ],
      "metadata": {
        "id": "qAIBd-PH_CU4"
      }
    },
    {
      "cell_type": "markdown",
      "source": [],
      "metadata": {
        "id": "oR1xYRmN_HCM"
      }
    },
    {
      "cell_type": "markdown",
      "source": [],
      "metadata": {
        "id": "X7AsJkNM_KwK"
      }
    },
    {
      "cell_type": "code",
      "source": [
        "for i in range(1,11,1):\n",
        "  print(7,\"x\",i,\"=\",7*i,\"   \",9,\"x\",i,\"=\",9*i)\n",
        "  print(\"\\n\")\n"
      ],
      "metadata": {
        "colab": {
          "base_uri": "https://localhost:8080/"
        },
        "id": "BYbQcO8Y_DbG",
        "outputId": "4fe5b0f6-020e-4380-b178-e880c7aba634"
      },
      "execution_count": 4,
      "outputs": [
        {
          "output_type": "stream",
          "name": "stdout",
          "text": [
            "7 x 1 = 7     9 x 1 = 9\n",
            "\n",
            "\n",
            "7 x 2 = 14     9 x 2 = 18\n",
            "\n",
            "\n",
            "7 x 3 = 21     9 x 3 = 27\n",
            "\n",
            "\n",
            "7 x 4 = 28     9 x 4 = 36\n",
            "\n",
            "\n",
            "7 x 5 = 35     9 x 5 = 45\n",
            "\n",
            "\n",
            "7 x 6 = 42     9 x 6 = 54\n",
            "\n",
            "\n",
            "7 x 7 = 49     9 x 7 = 63\n",
            "\n",
            "\n",
            "7 x 8 = 56     9 x 8 = 72\n",
            "\n",
            "\n",
            "7 x 9 = 63     9 x 9 = 81\n",
            "\n",
            "\n",
            "7 x 10 = 70     9 x 10 = 90\n",
            "\n",
            "\n"
          ]
        }
      ]
    },
    {
      "cell_type": "code",
      "source": [],
      "metadata": {
        "id": "jsCebOor_E7K"
      },
      "execution_count": null,
      "outputs": []
    },
    {
      "cell_type": "markdown",
      "source": [
        "4.2 WAP to print the table of n and n is given by user."
      ],
      "metadata": {
        "id": "LPVdBFFQ_MDv"
      }
    },
    {
      "cell_type": "code",
      "source": [
        "n=int(input(\"enter any integer of your choice\\n\"))\n",
        "for i in range(1,11,1):\n",
        "   print(n,\"x\",i,\"=\",n*i)\n"
      ],
      "metadata": {
        "colab": {
          "base_uri": "https://localhost:8080/"
        },
        "id": "_nYTgWa6_Mt-",
        "outputId": "d3ad424b-e4ec-43e4-c4ba-e6ebaac37a63"
      },
      "execution_count": 5,
      "outputs": [
        {
          "output_type": "stream",
          "name": "stdout",
          "text": [
            "enter any integer of your choice\n",
            "8\n",
            "8 x 1 = 8\n",
            "8 x 2 = 16\n",
            "8 x 3 = 24\n",
            "8 x 4 = 32\n",
            "8 x 5 = 40\n",
            "8 x 6 = 48\n",
            "8 x 7 = 56\n",
            "8 x 8 = 64\n",
            "8 x 9 = 72\n",
            "8 x 10 = 80\n"
          ]
        }
      ]
    },
    {
      "cell_type": "code",
      "source": [],
      "metadata": {
        "id": "CqlmSasN_O56"
      },
      "execution_count": null,
      "outputs": []
    },
    {
      "cell_type": "code",
      "source": [],
      "metadata": {
        "id": "z_62Uxu5_SUy"
      },
      "execution_count": null,
      "outputs": []
    },
    {
      "cell_type": "markdown",
      "source": [
        "4.3 WAP to add all the numbers from 1 to n and n is given by user."
      ],
      "metadata": {
        "id": "8UgxHRPM_Sqj"
      }
    },
    {
      "cell_type": "code",
      "source": [
        "n=int(input(\"Enter a number\\n\"))\n",
        "sum=0\n",
        "for i in range(1,n+1,1):\n",
        "  sum=sum+i\n",
        "print(sum)"
      ],
      "metadata": {
        "colab": {
          "base_uri": "https://localhost:8080/"
        },
        "id": "hnP2z3oY_VYP",
        "outputId": "1234e743-9c46-4840-bc46-82ae2c1ed2da"
      },
      "execution_count": 6,
      "outputs": [
        {
          "output_type": "stream",
          "name": "stdout",
          "text": [
            "Enter a number\n",
            "5\n",
            "15\n"
          ]
        }
      ]
    },
    {
      "cell_type": "code",
      "source": [],
      "metadata": {
        "id": "oTPyR4Ln_XQy"
      },
      "execution_count": null,
      "outputs": []
    },
    {
      "cell_type": "markdown",
      "source": [
        "5.1 WAP to find max amoung three numbers and input from user. [Try max() function]"
      ],
      "metadata": {
        "id": "YdGKKYam_ZPs"
      }
    },
    {
      "cell_type": "code",
      "source": [
        "a=int(input(\"enter first number\\n\"))\n",
        "b=int(input(\"enter second number\\n\"))\n",
        "c=int(input(\"enter third number\\n\"))\n",
        "max_no=max(a,b,c)\n",
        "print(\"max= \",max_no)"
      ],
      "metadata": {
        "colab": {
          "base_uri": "https://localhost:8080/"
        },
        "id": "uvv30Uo4_cW5",
        "outputId": "cfea9b13-17f0-442b-9cd6-68e356375851"
      },
      "execution_count": 7,
      "outputs": [
        {
          "output_type": "stream",
          "name": "stdout",
          "text": [
            "enter first number\n",
            "5\n",
            "enter second number\n",
            "7\n",
            "enter third number\n",
            "8\n",
            "max=  8\n"
          ]
        }
      ]
    },
    {
      "cell_type": "code",
      "source": [],
      "metadata": {
        "id": "8epxbV9G_e6t"
      },
      "execution_count": null,
      "outputs": []
    },
    {
      "cell_type": "markdown",
      "source": [
        "5.2 WAP to add all numbers divisible by 7 and 9 from 1 to n and n is given by the user."
      ],
      "metadata": {
        "id": "kT1T-Gv8_hcW"
      }
    },
    {
      "cell_type": "code",
      "source": [
        "n=int(input(\"enter first number\\n\"))\n",
        "sum=0;\n",
        "for i in range(1,n+1,1):\n",
        "  if(i%7==0 and i%9==0):\n",
        "    sum=sum+i\n",
        "print(sum)"
      ],
      "metadata": {
        "colab": {
          "base_uri": "https://localhost:8080/"
        },
        "id": "KbQptP6K_jvE",
        "outputId": "61f21fd0-aba1-4460-c06b-df3002d298cd"
      },
      "execution_count": 8,
      "outputs": [
        {
          "output_type": "stream",
          "name": "stdout",
          "text": [
            "enter first number\n",
            "5\n",
            "0\n"
          ]
        }
      ]
    },
    {
      "cell_type": "code",
      "source": [],
      "metadata": {
        "id": "anKtWkAh_m8v"
      },
      "execution_count": null,
      "outputs": []
    },
    {
      "cell_type": "markdown",
      "source": [
        "5.3 WAP to add all prime numbers from 1 to n and n is given by the user."
      ],
      "metadata": {
        "id": "TWDASlYJ_pFu"
      }
    },
    {
      "cell_type": "code",
      "source": [
        "n = int(input(\"Enter a No: \"))\n",
        "sum = 0\n",
        "\n",
        "def is_prime(n):\n",
        "    if n <= 1:\n",
        "        return False\n",
        "    for i in range(2, int(n//2) + 1):\n",
        "        if n % i == 0:\n",
        "            return False\n",
        "    return True\n",
        "\n",
        "for i in range(2, n + 1):\n",
        "    if is_prime(i):\n",
        "        sum += i\n",
        "\n",
        "print(sum)"
      ],
      "metadata": {
        "colab": {
          "base_uri": "https://localhost:8080/"
        },
        "id": "Ba4Mes1M_rYT",
        "outputId": "96eb472a-d800-419d-bef2-0d60a5d045bd"
      },
      "execution_count": 9,
      "outputs": [
        {
          "output_type": "stream",
          "name": "stdout",
          "text": [
            "Enter a No: 5\n",
            "10\n"
          ]
        }
      ]
    },
    {
      "cell_type": "code",
      "source": [],
      "metadata": {
        "id": "pXd-5Ign_tST"
      },
      "execution_count": null,
      "outputs": []
    },
    {
      "cell_type": "markdown",
      "source": [
        "6.1 WAP using function that add all odd numbers from 1 to n, n is given by the user."
      ],
      "metadata": {
        "id": "gllOhitE_um8"
      }
    },
    {
      "cell_type": "code",
      "source": [
        "n=int(input(\"enter first number\\n\"))\n",
        "sum=0\n",
        "for i in range(1,n+1,2):\n",
        "  sum=sum+i\n",
        "print(sum)"
      ],
      "metadata": {
        "colab": {
          "base_uri": "https://localhost:8080/"
        },
        "id": "fgeCow2h_wbU",
        "outputId": "8071215a-4ddd-49ac-c812-dff84d81a723"
      },
      "execution_count": 10,
      "outputs": [
        {
          "output_type": "stream",
          "name": "stdout",
          "text": [
            "enter first number\n",
            "5\n",
            "9\n"
          ]
        }
      ]
    },
    {
      "cell_type": "code",
      "source": [],
      "metadata": {
        "id": "p2wlC-ol_x-v"
      },
      "execution_count": null,
      "outputs": []
    },
    {
      "cell_type": "markdown",
      "source": [
        "6.2 WAP using function that add all prime numbers from 1 to n, n given by the user."
      ],
      "metadata": {
        "id": "JPTRuH9V_zmR"
      }
    },
    {
      "cell_type": "code",
      "source": [
        "n = int(input(\"Enter a No: \"))\n",
        "sum = 0\n",
        "\n",
        "def is_prime(n):\n",
        "    if n <= 1:\n",
        "        return False\n",
        "    for i in range(2, int(n//2) + 1):\n",
        "        if n % i == 0:\n",
        "            return False\n",
        "    return True\n",
        "\n",
        "for i in range(2, n + 1):\n",
        "    if is_prime(i):\n",
        "        sum += i\n",
        "\n",
        "print(sum)"
      ],
      "metadata": {
        "id": "iugmYXza_1sX",
        "outputId": "ab2226e0-5edc-4ecc-a36f-9349ed608c9a",
        "colab": {
          "base_uri": "https://localhost:8080/"
        }
      },
      "execution_count": 11,
      "outputs": [
        {
          "output_type": "stream",
          "name": "stdout",
          "text": [
            "Enter a No: 10\n",
            "17\n"
          ]
        }
      ]
    },
    {
      "cell_type": "code",
      "source": [],
      "metadata": {
        "id": "PnSiz3h8_3oo"
      },
      "execution_count": null,
      "outputs": []
    }
  ]
}